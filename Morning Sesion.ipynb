{
 "cells": [
  {
   "cell_type": "code",
   "execution_count": null,
   "id": "df8c4ba6",
   "metadata": {},
   "outputs": [],
   "source": [
    "print('Hello All Welcome To The python progrmming world')"
   ]
  },
  {
   "cell_type": "code",
   "execution_count": null,
   "id": "c432acbf",
   "metadata": {},
   "outputs": [],
   "source": []
  },
  {
   "cell_type": "code",
   "execution_count": null,
   "id": "1b2ec7ed",
   "metadata": {},
   "outputs": [],
   "source": [
    "###   Strings  #####"
   ]
  },
  {
   "cell_type": "code",
   "execution_count": 1,
   "id": "6a182657",
   "metadata": {},
   "outputs": [
    {
     "name": "stdout",
     "output_type": "stream",
     "text": [
      "8\n"
     ]
    }
   ],
   "source": [
    "x=5\n",
    "y=3\n",
    "z=x+y\n",
    "print(z)"
   ]
  },
  {
   "cell_type": "code",
   "execution_count": null,
   "id": "b04bb6ea",
   "metadata": {},
   "outputs": [],
   "source": [
    "Rules for declaring varialbles"
   ]
  },
  {
   "cell_type": "code",
   "execution_count": null,
   "id": "3c4e8dbd",
   "metadata": {},
   "outputs": [],
   "source": [
    "Rule 1:No namespaces while declaring the variable name."
   ]
  },
  {
   "cell_type": "code",
   "execution_count": 2,
   "id": "1da71747",
   "metadata": {},
   "outputs": [
    {
     "ename": "SyntaxError",
     "evalue": "invalid syntax (1286532911.py, line 1)",
     "output_type": "error",
     "traceback": [
      "\u001b[1;36m  Input \u001b[1;32mIn [2]\u001b[1;36m\u001b[0m\n\u001b[1;33m    first name='faiyaz'\u001b[0m\n\u001b[1;37m          ^\u001b[0m\n\u001b[1;31mSyntaxError\u001b[0m\u001b[1;31m:\u001b[0m invalid syntax\n"
     ]
    }
   ],
   "source": [
    "first name='faiyaz'"
   ]
  },
  {
   "cell_type": "code",
   "execution_count": 3,
   "id": "418612d1",
   "metadata": {},
   "outputs": [
    {
     "name": "stdout",
     "output_type": "stream",
     "text": [
      "faiyaz\n"
     ]
    }
   ],
   "source": [
    "firstname='faiyaz'\n",
    "print(firstname)"
   ]
  },
  {
   "cell_type": "code",
   "execution_count": null,
   "id": "bc6398cf",
   "metadata": {},
   "outputs": [],
   "source": [
    "Rule2: A variable name should not start with a number. ***"
   ]
  },
  {
   "cell_type": "code",
   "execution_count": 4,
   "id": "e51d26b9",
   "metadata": {},
   "outputs": [
    {
     "ename": "SyntaxError",
     "evalue": "invalid syntax (3674939162.py, line 1)",
     "output_type": "error",
     "traceback": [
      "\u001b[1;36m  Input \u001b[1;32mIn [4]\u001b[1;36m\u001b[0m\n\u001b[1;33m    1name='hari'\u001b[0m\n\u001b[1;37m     ^\u001b[0m\n\u001b[1;31mSyntaxError\u001b[0m\u001b[1;31m:\u001b[0m invalid syntax\n"
     ]
    }
   ],
   "source": [
    "1name='hari'"
   ]
  },
  {
   "cell_type": "code",
   "execution_count": 5,
   "id": "f0097558",
   "metadata": {},
   "outputs": [
    {
     "name": "stdout",
     "output_type": "stream",
     "text": [
      "hari\n"
     ]
    }
   ],
   "source": [
    "name1='hari'\n",
    "print(name1)"
   ]
  },
  {
   "cell_type": "code",
   "execution_count": null,
   "id": "23232427",
   "metadata": {},
   "outputs": [],
   "source": [
    "Rul3:A variable name should not contain any special characters  @$%^&*"
   ]
  },
  {
   "cell_type": "code",
   "execution_count": 6,
   "id": "4985e1f0",
   "metadata": {},
   "outputs": [
    {
     "ename": "SyntaxError",
     "evalue": "invalid syntax (2435892224.py, line 2)",
     "output_type": "error",
     "traceback": [
      "\u001b[1;36m  Input \u001b[1;32mIn [6]\u001b[1;36m\u001b[0m\n\u001b[1;33m    print(name@)\u001b[0m\n\u001b[1;37m               ^\u001b[0m\n\u001b[1;31mSyntaxError\u001b[0m\u001b[1;31m:\u001b[0m invalid syntax\n"
     ]
    }
   ],
   "source": [
    "name@='sakshi'\n",
    "print(name@)"
   ]
  },
  {
   "cell_type": "code",
   "execution_count": null,
   "id": "dac1985b",
   "metadata": {},
   "outputs": [],
   "source": [
    "    Introduction to DataType in Python :\n",
    "        1.string==>str\n",
    "        2.numbers==> integers (int) and floats (float)(decimal)\n",
    "        3.lists ==> list\n",
    "        4.tuples ==> tuple\n",
    "        5. dictionaries ==> dict"
   ]
  },
  {
   "cell_type": "code",
   "execution_count": null,
   "id": "1a035dce",
   "metadata": {},
   "outputs": [],
   "source": [
    " classification of Data types:\n",
    "        Broadly data types are classified into two categories:\n",
    "            1.Mutable Datatypes: Where in we can be able to edit or alter ===> flexible\n",
    "            2.Immutable datatypes: Where in we will not able to edit or alter ==>fixed\n",
    "                "
   ]
  },
  {
   "cell_type": "code",
   "execution_count": null,
   "id": "a48d56b2",
   "metadata": {},
   "outputs": [],
   "source": []
  },
  {
   "cell_type": "code",
   "execution_count": null,
   "id": "8a396ca4",
   "metadata": {},
   "outputs": [],
   "source": [
    "Introduction to String Datatype:"
   ]
  },
  {
   "cell_type": "code",
   "execution_count": null,
   "id": "ba980ff2",
   "metadata": {},
   "outputs": [],
   "source": [
    "defination:A string is a series of characters declared in quotes\n",
    "    classification: It is classiied as an immutable datatype\n",
    "        how to declare the string datatype...?\n",
    "        3 possible approaches;\n",
    "        1.single quote\n",
    "        2.Double quote\n",
    "        3.Triple quote\n",
    "        \n",
    "    "
   ]
  },
  {
   "cell_type": "code",
   "execution_count": 7,
   "id": "3c45c725",
   "metadata": {},
   "outputs": [
    {
     "name": "stdout",
     "output_type": "stream",
     "text": [
      "yamini\n"
     ]
    }
   ],
   "source": [
    "student1='yamini'\n",
    "print(student1)"
   ]
  },
  {
   "cell_type": "code",
   "execution_count": 8,
   "id": "57907506",
   "metadata": {},
   "outputs": [
    {
     "name": "stdout",
     "output_type": "stream",
     "text": [
      "suresh\n"
     ]
    }
   ],
   "source": [
    "student2=\"suresh\"\n",
    "print(student2)"
   ]
  },
  {
   "cell_type": "code",
   "execution_count": 9,
   "id": "b2e125d2",
   "metadata": {},
   "outputs": [
    {
     "name": "stdout",
     "output_type": "stream",
     "text": [
      "kiran\n"
     ]
    }
   ],
   "source": [
    "student3=\"\"\"kiran\"\"\"\n",
    "print(student3)"
   ]
  },
  {
   "cell_type": "code",
   "execution_count": null,
   "id": "238bdf4d",
   "metadata": {},
   "outputs": [],
   "source": [
    "Intro to string methods"
   ]
  },
  {
   "cell_type": "code",
   "execution_count": 10,
   "id": "972d1b63",
   "metadata": {},
   "outputs": [
    {
     "data": {
      "text/plain": [
       "str"
      ]
     },
     "execution_count": 10,
     "metadata": {},
     "output_type": "execute_result"
    }
   ],
   "source": [
    "type(student1)"
   ]
  },
  {
   "cell_type": "code",
   "execution_count": 11,
   "id": "36eaccc5",
   "metadata": {},
   "outputs": [
    {
     "data": {
      "text/plain": [
       "str"
      ]
     },
     "execution_count": 11,
     "metadata": {},
     "output_type": "execute_result"
    }
   ],
   "source": [
    "type(student2)"
   ]
  },
  {
   "cell_type": "code",
   "execution_count": 12,
   "id": "404d5932",
   "metadata": {},
   "outputs": [
    {
     "data": {
      "text/plain": [
       "str"
      ]
     },
     "execution_count": 12,
     "metadata": {},
     "output_type": "execute_result"
    }
   ],
   "source": [
    "type(student3)"
   ]
  },
  {
   "cell_type": "code",
   "execution_count": null,
   "id": "3ec3fdcf",
   "metadata": {},
   "outputs": [],
   "source": [
    "type is a method by using which we can able to verify the datatype."
   ]
  },
  {
   "cell_type": "code",
   "execution_count": null,
   "id": "11ab5e45",
   "metadata": {},
   "outputs": [],
   "source": []
  }
 ],
 "metadata": {
  "kernelspec": {
   "display_name": "Python 3 (ipykernel)",
   "language": "python",
   "name": "python3"
  },
  "language_info": {
   "codemirror_mode": {
    "name": "ipython",
    "version": 3
   },
   "file_extension": ".py",
   "mimetype": "text/x-python",
   "name": "python",
   "nbconvert_exporter": "python",
   "pygments_lexer": "ipython3",
   "version": "3.9.12"
  }
 },
 "nbformat": 4,
 "nbformat_minor": 5
}
